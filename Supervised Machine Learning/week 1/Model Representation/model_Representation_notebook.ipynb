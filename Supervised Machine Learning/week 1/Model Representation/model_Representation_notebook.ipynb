{
 "cells": [
  {
   "cell_type": "markdown",
   "metadata": {},
   "source": [
    "Model Representation"
   ]
  },
  {
   "cell_type": "markdown",
   "metadata": {},
   "source": [
    "Tools\n",
    "In this lab you will make use of:\n",
    "\n",
    "NumPy, a popular library for scientific computing\n",
    "Matplotlib, a popular library for plotting data"
   ]
  },
  {
   "cell_type": "code",
   "execution_count": 45,
   "metadata": {},
   "outputs": [],
   "source": [
    "import numpy as np \n",
    "import matplotlib.pyplot as plt\n",
    "plt.style.use('./deeplearning.mplstyle')"
   ]
  },
  {
   "cell_type": "markdown",
   "metadata": {},
   "source": [
    "Please run the following code cell to create your x_train and y_train variables. The data is stored in one-dimensional NumPy arrays."
   ]
  },
  {
   "cell_type": "code",
   "execution_count": 46,
   "metadata": {},
   "outputs": [
    {
     "name": "stdout",
     "output_type": "stream",
     "text": [
      "x_train =[1. 2.]\n",
      "y_train =[300. 500.]\n"
     ]
    }
   ],
   "source": [
    "# x_train is the input variable (size in 1000 square feet)\n",
    "# y_train is the target (price in 1000s of dollars)\n",
    "x_train=np.array([1.0,2.0])\n",
    "y_train=np.array([300.0,500.0])\n",
    "print(f\"x_train ={x_train}\")\n",
    "print(f\"y_train ={y_train}\")"
   ]
  },
  {
   "cell_type": "markdown",
   "metadata": {},
   "source": [
    "Number of training examples 'm'\n",
    "\n",
    "You will use m to denote the number of training examples. Numpy arrays have a .shape parameter. x_train.shape returns a python tuple with an entry for each dimension. x_train.shape[0] is the length of the array and number of examples as shown below."
   ]
  },
  {
   "cell_type": "code",
   "execution_count": 47,
   "metadata": {},
   "outputs": [
    {
     "name": "stdout",
     "output_type": "stream",
     "text": [
      "x_train.shape: (2,)\n",
      "Number of training examples is: 2\n"
     ]
    }
   ],
   "source": [
    "# m is the number of training examples\n",
    "print(f\"x_train.shape: {x_train.shape}\")\n",
    "m=x_train.shape[0]\n",
    "print(f\"Number of training examples is: {m}\")"
   ]
  },
  {
   "cell_type": "markdown",
   "metadata": {},
   "source": [
    "One can also use the Python len() function as shown below."
   ]
  },
  {
   "cell_type": "code",
   "execution_count": 48,
   "metadata": {},
   "outputs": [
    {
     "name": "stdout",
     "output_type": "stream",
     "text": [
      "Number of training examples is: 2\n"
     ]
    }
   ],
   "source": [
    "# m is the number of training examples\n",
    "m=len(x_train)\n",
    "print(f\"Number of training examples is: {m}\")"
   ]
  },
  {
   "cell_type": "markdown",
   "metadata": {},
   "source": [
    "Training example x_i, y_i\n",
    "\n",
    "You will use (x (𝑖)\n",
    " , y (𝑖)\n",
    " ) to denote the  𝑖𝑡ℎ\n",
    "  training example. Since Python is zero indexed, (x (0)\n",
    " , y (0)\n",
    " ) is (1.0, 300.0) and (x (1)\n",
    " , y (1)\n",
    " ) is (2.0, 500.0).\n",
    "\n",
    "To access a value in a Numpy array, one indexes the array with the desired offset. For example the syntax to access location zero of x_train is x_train[0]. Run the next code block below to get the  𝑖𝑡ℎ\n",
    "  training example."
   ]
  },
  {
   "cell_type": "code",
   "execution_count": 49,
   "metadata": {},
   "outputs": [
    {
     "name": "stdout",
     "output_type": "stream",
     "text": [
      "(x^(1),y^(1)) = ((2.0, 500.0))\n"
     ]
    }
   ],
   "source": [
    "i=1\n",
    "x_i=x_train[i]\n",
    "y_i=y_train[i]\n",
    "print(f\"(x^({i}),y^({i})) = ({x_i,y_i})\")"
   ]
  },
  {
   "cell_type": "markdown",
   "metadata": {},
   "source": [
    "Plotting the data"
   ]
  },
  {
   "cell_type": "markdown",
   "metadata": {},
   "source": [
    "You can plot these two points using the scatter() function in the matplotlib library, as shown in the cell below.\n",
    "\n",
    "The function arguments marker and c show the points as red crosses (the default is blue dots).\n",
    "You can use other functions in the matplotlib library to set the title and labels to display"
   ]
  },
  {
   "cell_type": "code",
   "execution_count": 50,
   "metadata": {},
   "outputs": [
    {
     "data": {
      "image/png": "[encoded data removed]",
      "text/plain": [
       "<Figure size 640x480 with 1 Axes>"
      ]
     },
     "metadata": {},
     "output_type": "display_data"
    }
   ],
   "source": [
    "# Plot the data points\n",
    "plt.scatter(x_train,y_train,marker='x',c='r')\n",
    "# Set the title\n",
    "plt.title(\"Housing Prices\")\n",
    "# Set the y-axis label\n",
    "plt.ylabel('Price (in 1000s of dollars)')\n",
    "# Set the x-axis label\n",
    "plt.xlabel('Size (1000s of dollars)')\n",
    "plt.show()"
   ]
  },
  {
   "cell_type": "markdown",
   "metadata": {},
   "source": [
    "As described in lecture, the model function for linear regression (which is a function that maps from x to y) is represented as\n",
    "\n",
    "𝑓𝑤,𝑏(𝑥(𝑖))=𝑤𝑥(𝑖)+𝑏(1)\n",
    "The formula above is how you can represent straight lines - different values of  𝑤\n",
    "  and  𝑏\n",
    "  give you different straight lines on the plot.\n",
    "\n",
    "\n",
    "\n",
    "\n",
    "Let's try to get a better intuition for this through the code blocks below. Let's start with  𝑤=100\n",
    "  and  𝑏=100\n",
    " .\n",
    "\n",
    "Note: You can come back to this cell to adjust the model's w and b parameters"
   ]
  },
  {
   "cell_type": "code",
   "execution_count": 51,
   "metadata": {},
   "outputs": [
    {
     "name": "stdout",
     "output_type": "stream",
     "text": [
      "w: 200\n",
      "b: 100\n"
     ]
    }
   ],
   "source": [
    "w=200\n",
    "b=100\n",
    "print(f\"w: {w}\")\n",
    "print(f\"b: {b}\")"
   ]
  },
  {
   "cell_type": "markdown",
   "metadata": {},
   "source": [
    "Now, let's compute the value of  𝑓𝑤,𝑏(𝑥(𝑖))\n",
    "  for your two data points. You can explicitly write this out for each data point as -\n",
    "\n",
    "for  𝑥(0)\n",
    " , f_wb = w * x[0] + b\n",
    "\n",
    "for  𝑥(1)\n",
    " , f_wb = w * x[1] + b\n",
    "\n",
    "For a large number of data points, this can get unwieldy and repetitive. So instead, you can calculate the function output in a for loop as shown in the compute_model_output function below.\n",
    "\n",
    "Note: The argument description (ndarray (m,)) describes a Numpy n-dimensional array of shape (m,). (scalar) describes an argument without dimensions, just a magnitude.\n",
    "Note: np.zero(n) will return a one-dimensional numpy array with  𝑛\n",
    "  entries"
   ]
  },
  {
   "cell_type": "code",
   "execution_count": 52,
   "metadata": {},
   "outputs": [],
   "source": [
    "def compute_model_output(x,w,b):\n",
    "    m=x.shape[0]\n",
    "    f_wb=np.zeros(m)\n",
    "    for i in range(m):\n",
    "        f_wb[i]=w*x[i]+b\n",
    "\n",
    "    return f_wb        "
   ]
  },
  {
   "cell_type": "markdown",
   "metadata": {},
   "source": [
    "Now let's call the compute_model_output function and plot the output.."
   ]
  },
  {
   "cell_type": "code",
   "execution_count": 56,
   "metadata": {},
   "outputs": [
    {
     "data": {
      "image/png": "[encoded data removed]",
      "text/plain": [
       "<Figure size 640x480 with 1 Axes>"
      ]
     },
     "metadata": {},
     "output_type": "display_data"
    }
   ],
   "source": [
    "tmp_f_wb=compute_model_output(x_train,w,b)\n",
    "\n",
    "plt.plot(x_train,tmp_f_wb,c='b',label ='Our Prediction')\n",
    "\n",
    "plt.scatter(x_train,y_train,marker='x',c='r',label='Actual values')\n",
    "\n",
    "plt.title(\"Housing Prices\")\n",
    "plt.ylabel('Price (in 1000s of dollars)')\n",
    "plt.xlabel('Size (1000 sqft)')\n",
    "plt.legend()\n",
    "plt.show()"
   ]
  },
  {
   "cell_type": "markdown",
   "metadata": {},
   "source": [
    "As you can see, setting  𝑤=100\n",
    "  and  𝑏=100\n",
    "  does not result in a line that fits our data.\n",
    "\n",
    "Challenge\n",
    "Try experimenting with different values of  𝑤\n",
    "  and  𝑏\n",
    " . What should the values be for a line that fits our data?"
   ]
  },
  {
   "cell_type": "markdown",
   "metadata": {},
   "source": [
    "Prediction\n",
    "\n",
    "Now that we have a model, we can use it to make our original prediction. Let's predict the price of a house with 1200 sqft. Since the units of  𝑥\n",
    "  are in 1000's of sqft,  𝑥\n",
    "  is 1.2."
   ]
  },
  {
   "cell_type": "code",
   "execution_count": 54,
   "metadata": {},
   "outputs": [
    {
     "name": "stdout",
     "output_type": "stream",
     "text": [
      "$340 thousand dollars\n"
     ]
    }
   ],
   "source": [
    "w=200\n",
    "b=100\n",
    "x_i=1.2\n",
    "cost_1200sqft=w*x_i+b\n",
    "\n",
    "print(f\"${cost_1200sqft:.0f} thousand dollars\" )"
   ]
  },
  {
   "cell_type": "markdown",
   "metadata": {},
   "source": [
    "Congratulations!\n",
    "In this lab you have learned:\n",
    "\n",
    "Linear regression builds a model which establishes a relationship between features and targets\n",
    "In the example above, the feature was house size and the target was house price\n",
    "for simple linear regression, the model has two parameters  𝑤\n",
    "  and  𝑏\n",
    "  whose values are 'fit' using training data.\n",
    "once a model's parameters have been determined, the model can be used to make predictions on novel data."
   ]
  }
 ],
 "metadata": {
  "kernelspec": {
   "display_name": "Python 3",
   "language": "python",
   "name": "python3"
  },
  "language_info": {
   "codemirror_mode": {
    "name": "ipython",
    "version": 3
   },
   "file_extension": ".py",
   "mimetype": "text/x-python",
   "name": "python",
   "nbconvert_exporter": "python",
   "pygments_lexer": "ipython3",
   "version": "3.11.5"
  }
 },
 "nbformat": 4,
 "nbformat_minor": 2
}
