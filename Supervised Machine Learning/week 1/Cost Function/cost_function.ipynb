{
 "cells": [
  {
   "cell_type": "markdown",
   "metadata": {},
   "source": [
    "Cost Function"
   ]
  },
  {
   "cell_type": "markdown",
   "metadata": {},
   "source": [
    "Goals\n",
    "In this lab you will:\n",
    "\n",
    "you will implement and explore the cost function for linear regression with one variable."
   ]
  },
  {
   "cell_type": "markdown",
   "metadata": {},
   "source": [
    "Tools\n",
    "In this lab we will make use of:\n",
    "\n",
    "NumPy, a popular library for scientific computing\n",
    "Matplotlib, a popular library for plotting data\n",
    "local plotting routines in the lab_utils_uni.py file in the local directory"
   ]
  },
  {
   "cell_type": "code",
   "execution_count": null,
   "metadata": {},
   "outputs": [],
   "source": [
    "import numpy as np\n",
    "%matplotlib widget\n",
    "import matplotlib.pyplot as plt\n",
    "from lab_utils_uni import plt_intuition,plt_stationary, plt_update_onclick,soup_bowl\n",
    "plt.style.use('./deeplearning.mplstyle')"
   ]
  },
  {
   "cell_type": "markdown",
   "metadata": {},
   "source": [
    "Problem Statement\n",
    "\n",
    "\n",
    "You would like a model which can predict housing prices given the size of the house.\n",
    "Let's use the same two data points as before the previous lab- a house with 1000 square feet sold for $300,000 and a house with 2000 square feet sold for $500,000."
   ]
  },
  {
   "cell_type": "code",
   "execution_count": null,
   "metadata": {},
   "outputs": [],
   "source": [
    "x_train=np.array([1.0,2.0])\n",
    "y_train=np.array([300.0,500.0])"
   ]
  },
  {
   "cell_type": "markdown",
   "metadata": {},
   "source": [
    "Computing Cost\n",
    "\n",
    "The term 'cost' in this assignment might be a little confusing since the data is housing cost. Here, cost is a measure how well our model is predicting the target price of the house. The term 'price' is used for housing data.\n",
    "\n",
    "The equation for cost with one variable is:\n",
    "\n",
    "                         𝐽(𝑤,𝑏)=12𝑚∑𝑖=0𝑚−1(𝑓𝑤,𝑏(𝑥(𝑖))−𝑦(𝑖))2                  (1)\n",
    "                    where\n",
    "                              𝑓𝑤,𝑏(𝑥(𝑖))=𝑤𝑥(𝑖)+𝑏                               (2)\n",
    "\n",
    "𝑓𝑤,𝑏(𝑥(𝑖))is our prediction for example 𝑖 using parameters  𝑤,𝑏.\n",
    "\n",
    "(𝑓𝑤,𝑏(𝑥(𝑖))−𝑦(𝑖))2 is the squared difference between the target value and the prediction.\n",
    "\n",
    "These differences are summed over all the  𝑚 examples and divided by 2m to produce the cost,  𝐽(𝑤,𝑏).\n",
    "\n",
    "Note, in lecture summation ranges are typically from 1 to m, while code will be from 0 to m-1.\n",
    "\n"
   ]
  },
  {
   "cell_type": "markdown",
   "metadata": {},
   "source": [
    "The code below calculates cost by looping over each example. In each loop:\n",
    "\n",
    "f_wb, a prediction is calculated\n",
    "the difference between the target and the prediction is calculated and squared.\n",
    "this is added to the total cost."
   ]
  },
  {
   "cell_type": "code",
   "execution_count": null,
   "metadata": {},
   "outputs": [],
   "source": [
    "def compute_cost(x,y,w,b):\n",
    "    m=x.shape[0]\n",
    "    cost_sum=0\n",
    "    for i in range(m):\n",
    "        f_wb=w*x[i]+b\n",
    "        cost=(f_wb-y[i])**2\n",
    "        cost_sum=cost_sum+cost\n",
    "    total_cost=(1/(2*m))*cost_sum\n",
    "\n",
    "    return total_cost    "
   ]
  },
  {
   "cell_type": "markdown",
   "metadata": {},
   "source": [
    "Cost Function Intuition"
   ]
  },
  {
   "cell_type": "markdown",
   "metadata": {},
   "source": [
    "Your goal is to find a model  𝑓𝑤,𝑏(𝑥)=𝑤𝑥+𝑏\n",
    " , with parameters  𝑤,𝑏\n",
    " , which will accurately predict house values given an input  𝑥\n",
    " . The cost is a measure of how accurate the model is on the training data.\n",
    "\n",
    "The cost equation (1) above shows that if  𝑤\n",
    "  and  𝑏\n",
    "  can be selected such that the predictions  𝑓𝑤,𝑏(𝑥)\n",
    "  match the target data  𝑦\n",
    " , the  (𝑓𝑤,𝑏(𝑥(𝑖))−𝑦(𝑖))2\n",
    "  term will be zero and the cost minimized. In this simple two point example, you can achieve this!\n",
    "\n",
    "In the previous lab, you determined that  𝑏=100\n",
    "  provided an optimal solution so let's set  𝑏\n",
    "  to 100 and focus on  𝑤\n",
    " .\n",
    "\n",
    "\n",
    "Below, use the slider control to select the value of  𝑤\n",
    "  that minimizes cost. It can take a few seconds for the plot to update."
   ]
  },
  {
   "cell_type": "code",
   "execution_count": 6,
   "metadata": {},
   "outputs": [],
   "source": [
    "plt_intuition(x_train,y_train)"
   ]
  },
  {
   "cell_type": "markdown",
   "metadata": {},
   "source": [
    "The plot contains a few points that are worth mentioning.\n",
    "\n",
    "cost is minimized when  𝑤=200\n",
    " , which matches results from the previous lab\n",
    "Because the difference between the target and pediction is squared in the cost equation, the cost increases rapidly when  𝑤\n",
    "  is either too large or too small.\n",
    "Using the w and b selected by minimizing cost results in a line which is a perfect fit to the data."
   ]
  },
  {
   "cell_type": "markdown",
   "metadata": {},
   "source": [
    "Cost Function Visualization- 3D¶\n",
    "\n",
    "You can see how cost varies with respect to both w and b by plotting in 3D or using a contour plot.\n",
    "It is worth noting that some of the plotting in this course can become quite involved. The plotting routines are provided and while it can be instructive to read through the code to become familiar with the methods, it is not needed to complete the course successfully. The routines are in lab_utils_uni.py in the local directory."
   ]
  },
  {
   "cell_type": "markdown",
   "metadata": {},
   "source": [
    "Larger Data Set\n",
    "It is instructive to view a scenario with a few more data points. This data set includes data points that do not fall on the same line. What does that mean for the cost equation? Can we find  𝑤\n",
    " , and  𝑏\n",
    "  that will give us a cost of 0?"
   ]
  },
  {
   "cell_type": "code",
   "execution_count": null,
   "metadata": {},
   "outputs": [],
   "source": [
    "x_train=np.array([1.0,1,7,2.0,2.5,3.0,3.2])\n",
    "y_train=np.array([250,300,480,430,630,730])"
   ]
  },
  {
   "cell_type": "markdown",
   "metadata": {},
   "source": [
    "In the contour plot, click on a point to select w and b to achieve the lowest cost. Use the contours to guide your selections. Note, it can take a few seconds to update the graph."
   ]
  },
  {
   "cell_type": "code",
   "execution_count": null,
   "metadata": {},
   "outputs": [],
   "source": [
    "plt.close('all')\n",
    "fig, ax, dyn_items =plt_stationary(x_train,y_train)\n",
    "updater=plt_update_onclick(fig, ax, x_train, y_train, dyn_items)"
   ]
  },
  {
   "cell_type": "markdown",
   "metadata": {},
   "source": [
    "Above, note the dashed lines in the left plot. These represent the portion of the cost contributed by each example in your training set. In this case, values of approximately  𝑤=209\n",
    "  and  𝑏=2.4\n",
    "  provide low cost. Note that, because our training examples are not on a line, the minimum cost is not zero."
   ]
  },
  {
   "cell_type": "markdown",
   "metadata": {},
   "source": [
    "Convex Cost surface\n",
    "\n",
    "The fact that the cost function squares the loss ensures that the 'error surface' is convex like a soup bowl. It will always have a minimum that can be reached by following the gradient in all dimensions. In the previous plot, because the  𝑤\n",
    "  and  𝑏\n",
    "  dimensions scale differently, this is not easy to recognize. The following plot, where  𝑤\n",
    "  and  𝑏\n",
    "  are symmetric, was shown in lecture:"
   ]
  },
  {
   "cell_type": "code",
   "execution_count": null,
   "metadata": {},
   "outputs": [],
   "source": [
    "soup_bowl()"
   ]
  },
  {
   "cell_type": "markdown",
   "metadata": {},
   "source": [
    "Congratulations!\n",
    "You have learned the following:\n",
    "\n",
    "The cost equation provides a measure of how well your predictions match your training data.\n",
    "Minimizing the cost can provide optimal values of  𝑤\n",
    " ,  𝑏\n",
    " ."
   ]
  }
 ],
 "metadata": {
  "kernelspec": {
   "display_name": "Python 3",
   "language": "python",
   "name": "python3"
  },
  "language_info": {
   "codemirror_mode": {
    "name": "ipython",
    "version": 3
   },
   "file_extension": ".py",
   "mimetype": "text/x-python",
   "name": "python",
   "nbconvert_exporter": "python",
   "pygments_lexer": "ipython3",
   "version": "3.11.5"
  }
 },
 "nbformat": 4,
 "nbformat_minor": 2
}
